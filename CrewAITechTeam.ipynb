{
 "cells": [
  {
   "cell_type": "code",
   "execution_count": 1,
   "metadata": {
    "collapsed": true,
    "pycharm": {
     "name": "#%%\n"
    }
   },
   "outputs": [
    {
     "ename": "TypeError",
     "evalue": "unsupported operand type(s) for |: 'type' and 'NoneType'",
     "output_type": "error",
     "traceback": [
      "\u001B[0;31m---------------------------------------------------------------------------\u001B[0m",
      "\u001B[0;31mTypeError\u001B[0m                                 Traceback (most recent call last)",
      "\u001B[0;32m/var/folders/1_/2_3g4l550yg1ssxj3_7g77m40000gn/T/ipykernel_13001/982791860.py\u001B[0m in \u001B[0;36m<module>\u001B[0;34m\u001B[0m\n\u001B[1;32m      1\u001B[0m \u001B[0;31m# Import required libraries.\u001B[0m\u001B[0;34m\u001B[0m\u001B[0;34m\u001B[0m\u001B[0;34m\u001B[0m\u001B[0m\n\u001B[1;32m      2\u001B[0m \u001B[0;32mimport\u001B[0m \u001B[0mos\u001B[0m\u001B[0;34m\u001B[0m\u001B[0;34m\u001B[0m\u001B[0m\n\u001B[0;32m----> 3\u001B[0;31m \u001B[0;32mfrom\u001B[0m \u001B[0mcrewai\u001B[0m \u001B[0;32mimport\u001B[0m \u001B[0mCrew\u001B[0m\u001B[0;34m,\u001B[0m \u001B[0mAgent\u001B[0m\u001B[0;34m,\u001B[0m \u001B[0mProcess\u001B[0m\u001B[0;34m,\u001B[0m \u001B[0mTask\u001B[0m\u001B[0;34m\u001B[0m\u001B[0;34m\u001B[0m\u001B[0m\n\u001B[0m\u001B[1;32m      4\u001B[0m \u001B[0;34m\u001B[0m\u001B[0m\n\u001B[1;32m      5\u001B[0m \u001B[0;31m# Intialize OpenAI LLM connection\u001B[0m\u001B[0;34m\u001B[0m\u001B[0;34m\u001B[0m\u001B[0;34m\u001B[0m\u001B[0m\n",
      "\u001B[0;32m~/.pyenv/versions/3.9.5/lib/python3.9/site-packages/crewai/__init__.py\u001B[0m in \u001B[0;36m<module>\u001B[0;34m\u001B[0m\n\u001B[0;32m----> 1\u001B[0;31m \u001B[0;32mfrom\u001B[0m \u001B[0mcrewai\u001B[0m\u001B[0;34m.\u001B[0m\u001B[0magent\u001B[0m \u001B[0;32mimport\u001B[0m \u001B[0mAgent\u001B[0m\u001B[0;34m\u001B[0m\u001B[0;34m\u001B[0m\u001B[0m\n\u001B[0m\u001B[1;32m      2\u001B[0m \u001B[0;32mfrom\u001B[0m \u001B[0mcrewai\u001B[0m\u001B[0;34m.\u001B[0m\u001B[0mcrew\u001B[0m \u001B[0;32mimport\u001B[0m \u001B[0mCrew\u001B[0m\u001B[0;34m\u001B[0m\u001B[0;34m\u001B[0m\u001B[0m\n\u001B[1;32m      3\u001B[0m \u001B[0;32mfrom\u001B[0m \u001B[0mcrewai\u001B[0m\u001B[0;34m.\u001B[0m\u001B[0mprocess\u001B[0m \u001B[0;32mimport\u001B[0m \u001B[0mProcess\u001B[0m\u001B[0;34m\u001B[0m\u001B[0;34m\u001B[0m\u001B[0m\n\u001B[1;32m      4\u001B[0m \u001B[0;32mfrom\u001B[0m \u001B[0mcrewai\u001B[0m\u001B[0;34m.\u001B[0m\u001B[0mtask\u001B[0m \u001B[0;32mimport\u001B[0m \u001B[0mTask\u001B[0m\u001B[0;34m\u001B[0m\u001B[0;34m\u001B[0m\u001B[0m\n",
      "\u001B[0;32m~/.pyenv/versions/3.9.5/lib/python3.9/site-packages/crewai/agent.py\u001B[0m in \u001B[0;36m<module>\u001B[0;34m\u001B[0m\n\u001B[1;32m     20\u001B[0m \u001B[0;32mfrom\u001B[0m \u001B[0mpydantic_core\u001B[0m \u001B[0;32mimport\u001B[0m \u001B[0mPydanticCustomError\u001B[0m\u001B[0;34m\u001B[0m\u001B[0;34m\u001B[0m\u001B[0m\n\u001B[1;32m     21\u001B[0m \u001B[0;34m\u001B[0m\u001B[0m\n\u001B[0;32m---> 22\u001B[0;31m from crewai.agents import (\n\u001B[0m\u001B[1;32m     23\u001B[0m     \u001B[0mCacheHandler\u001B[0m\u001B[0;34m,\u001B[0m\u001B[0;34m\u001B[0m\u001B[0;34m\u001B[0m\u001B[0m\n\u001B[1;32m     24\u001B[0m     \u001B[0mCrewAgentExecutor\u001B[0m\u001B[0;34m,\u001B[0m\u001B[0;34m\u001B[0m\u001B[0;34m\u001B[0m\u001B[0m\n",
      "\u001B[0;32m~/.pyenv/versions/3.9.5/lib/python3.9/site-packages/crewai/agents/__init__.py\u001B[0m in \u001B[0;36m<module>\u001B[0;34m\u001B[0m\n\u001B[1;32m      1\u001B[0m \u001B[0;32mfrom\u001B[0m \u001B[0;34m.\u001B[0m\u001B[0mcache\u001B[0m\u001B[0;34m.\u001B[0m\u001B[0mcache_handler\u001B[0m \u001B[0;32mimport\u001B[0m \u001B[0mCacheHandler\u001B[0m\u001B[0;34m\u001B[0m\u001B[0;34m\u001B[0m\u001B[0m\n\u001B[0;32m----> 2\u001B[0;31m \u001B[0;32mfrom\u001B[0m \u001B[0;34m.\u001B[0m\u001B[0mexecutor\u001B[0m \u001B[0;32mimport\u001B[0m \u001B[0mCrewAgentExecutor\u001B[0m\u001B[0;34m\u001B[0m\u001B[0;34m\u001B[0m\u001B[0m\n\u001B[0m\u001B[1;32m      3\u001B[0m \u001B[0;32mfrom\u001B[0m \u001B[0;34m.\u001B[0m\u001B[0moutput_parser\u001B[0m \u001B[0;32mimport\u001B[0m \u001B[0mCrewAgentOutputParser\u001B[0m\u001B[0;34m\u001B[0m\u001B[0;34m\u001B[0m\u001B[0m\n\u001B[1;32m      4\u001B[0m \u001B[0;32mfrom\u001B[0m \u001B[0;34m.\u001B[0m\u001B[0mtools_handler\u001B[0m \u001B[0;32mimport\u001B[0m \u001B[0mToolsHandler\u001B[0m\u001B[0;34m\u001B[0m\u001B[0;34m\u001B[0m\u001B[0m\n",
      "\u001B[0;32m~/.pyenv/versions/3.9.5/lib/python3.9/site-packages/crewai/agents/executor.py\u001B[0m in \u001B[0;36m<module>\u001B[0;34m\u001B[0m\n\u001B[1;32m     14\u001B[0m \u001B[0;32mfrom\u001B[0m \u001B[0mcrewai\u001B[0m\u001B[0;34m.\u001B[0m\u001B[0magents\u001B[0m\u001B[0;34m.\u001B[0m\u001B[0mcache\u001B[0m\u001B[0;34m.\u001B[0m\u001B[0mcache_hit\u001B[0m \u001B[0;32mimport\u001B[0m \u001B[0mCacheHit\u001B[0m\u001B[0;34m\u001B[0m\u001B[0;34m\u001B[0m\u001B[0m\n\u001B[1;32m     15\u001B[0m \u001B[0;32mfrom\u001B[0m \u001B[0mcrewai\u001B[0m\u001B[0;34m.\u001B[0m\u001B[0mtools\u001B[0m\u001B[0;34m.\u001B[0m\u001B[0mcache_tools\u001B[0m \u001B[0;32mimport\u001B[0m \u001B[0mCacheTools\u001B[0m\u001B[0;34m\u001B[0m\u001B[0;34m\u001B[0m\u001B[0m\n\u001B[0;32m---> 16\u001B[0;31m \u001B[0;32mfrom\u001B[0m \u001B[0mcrewai\u001B[0m\u001B[0;34m.\u001B[0m\u001B[0mutilities\u001B[0m \u001B[0;32mimport\u001B[0m \u001B[0mI18N\u001B[0m\u001B[0;34m\u001B[0m\u001B[0;34m\u001B[0m\u001B[0m\n\u001B[0m\u001B[1;32m     17\u001B[0m \u001B[0;34m\u001B[0m\u001B[0m\n\u001B[1;32m     18\u001B[0m \u001B[0;34m\u001B[0m\u001B[0m\n",
      "\u001B[0;32m~/.pyenv/versions/3.9.5/lib/python3.9/site-packages/crewai/utilities/__init__.py\u001B[0m in \u001B[0;36m<module>\u001B[0;34m\u001B[0m\n\u001B[1;32m      2\u001B[0m \u001B[0;32mfrom\u001B[0m \u001B[0;34m.\u001B[0m\u001B[0mlogger\u001B[0m \u001B[0;32mimport\u001B[0m \u001B[0mLogger\u001B[0m\u001B[0;34m\u001B[0m\u001B[0;34m\u001B[0m\u001B[0m\n\u001B[1;32m      3\u001B[0m \u001B[0;32mfrom\u001B[0m \u001B[0;34m.\u001B[0m\u001B[0mprompts\u001B[0m \u001B[0;32mimport\u001B[0m \u001B[0mPrompts\u001B[0m\u001B[0;34m\u001B[0m\u001B[0;34m\u001B[0m\u001B[0m\n\u001B[0;32m----> 4\u001B[0;31m \u001B[0;32mfrom\u001B[0m \u001B[0;34m.\u001B[0m\u001B[0mrpm_controller\u001B[0m \u001B[0;32mimport\u001B[0m \u001B[0mRPMController\u001B[0m\u001B[0;34m\u001B[0m\u001B[0;34m\u001B[0m\u001B[0m\n\u001B[0m",
      "\u001B[0;32m~/.pyenv/versions/3.9.5/lib/python3.9/site-packages/crewai/utilities/rpm_controller.py\u001B[0m in \u001B[0;36m<module>\u001B[0;34m\u001B[0m\n\u001B[1;32m      8\u001B[0m \u001B[0;34m\u001B[0m\u001B[0m\n\u001B[1;32m      9\u001B[0m \u001B[0;34m\u001B[0m\u001B[0m\n\u001B[0;32m---> 10\u001B[0;31m \u001B[0;32mclass\u001B[0m \u001B[0mRPMController\u001B[0m\u001B[0;34m(\u001B[0m\u001B[0mBaseModel\u001B[0m\u001B[0;34m)\u001B[0m\u001B[0;34m:\u001B[0m\u001B[0;34m\u001B[0m\u001B[0;34m\u001B[0m\u001B[0m\n\u001B[0m\u001B[1;32m     11\u001B[0m     \u001B[0mmodel_config\u001B[0m \u001B[0;34m=\u001B[0m \u001B[0mConfigDict\u001B[0m\u001B[0;34m(\u001B[0m\u001B[0marbitrary_types_allowed\u001B[0m\u001B[0;34m=\u001B[0m\u001B[0;32mTrue\u001B[0m\u001B[0;34m)\u001B[0m\u001B[0;34m\u001B[0m\u001B[0;34m\u001B[0m\u001B[0m\n\u001B[1;32m     12\u001B[0m     \u001B[0mmax_rpm\u001B[0m\u001B[0;34m:\u001B[0m \u001B[0mUnion\u001B[0m\u001B[0;34m[\u001B[0m\u001B[0mint\u001B[0m\u001B[0;34m,\u001B[0m \u001B[0;32mNone\u001B[0m\u001B[0;34m]\u001B[0m \u001B[0;34m=\u001B[0m \u001B[0mField\u001B[0m\u001B[0;34m(\u001B[0m\u001B[0mdefault\u001B[0m\u001B[0;34m=\u001B[0m\u001B[0;32mNone\u001B[0m\u001B[0;34m)\u001B[0m\u001B[0;34m\u001B[0m\u001B[0;34m\u001B[0m\u001B[0m\n",
      "\u001B[0;32m~/.pyenv/versions/3.9.5/lib/python3.9/site-packages/crewai/utilities/rpm_controller.py\u001B[0m in \u001B[0;36mRPMController\u001B[0;34m()\u001B[0m\n\u001B[1;32m     13\u001B[0m     \u001B[0mlogger\u001B[0m\u001B[0;34m:\u001B[0m \u001B[0mLogger\u001B[0m \u001B[0;34m=\u001B[0m \u001B[0mField\u001B[0m\u001B[0;34m(\u001B[0m\u001B[0mdefault\u001B[0m\u001B[0;34m=\u001B[0m\u001B[0;32mNone\u001B[0m\u001B[0;34m)\u001B[0m\u001B[0;34m\u001B[0m\u001B[0;34m\u001B[0m\u001B[0m\n\u001B[1;32m     14\u001B[0m     \u001B[0m_current_rpm\u001B[0m\u001B[0;34m:\u001B[0m \u001B[0mint\u001B[0m \u001B[0;34m=\u001B[0m \u001B[0mPrivateAttr\u001B[0m\u001B[0;34m(\u001B[0m\u001B[0mdefault\u001B[0m\u001B[0;34m=\u001B[0m\u001B[0;36m0\u001B[0m\u001B[0;34m)\u001B[0m\u001B[0;34m\u001B[0m\u001B[0;34m\u001B[0m\u001B[0m\n\u001B[0;32m---> 15\u001B[0;31m     \u001B[0m_timer\u001B[0m\u001B[0;34m:\u001B[0m \u001B[0mthreading\u001B[0m\u001B[0;34m.\u001B[0m\u001B[0mTimer\u001B[0m \u001B[0;34m|\u001B[0m \u001B[0;32mNone\u001B[0m \u001B[0;34m=\u001B[0m \u001B[0mPrivateAttr\u001B[0m\u001B[0;34m(\u001B[0m\u001B[0mdefault\u001B[0m\u001B[0;34m=\u001B[0m\u001B[0;32mNone\u001B[0m\u001B[0;34m)\u001B[0m\u001B[0;34m\u001B[0m\u001B[0;34m\u001B[0m\u001B[0m\n\u001B[0m\u001B[1;32m     16\u001B[0m     \u001B[0m_lock\u001B[0m\u001B[0;34m:\u001B[0m \u001B[0mthreading\u001B[0m\u001B[0;34m.\u001B[0m\u001B[0mLock\u001B[0m \u001B[0;34m=\u001B[0m \u001B[0mPrivateAttr\u001B[0m\u001B[0;34m(\u001B[0m\u001B[0mdefault\u001B[0m\u001B[0;34m=\u001B[0m\u001B[0;32mNone\u001B[0m\u001B[0;34m)\u001B[0m\u001B[0;34m\u001B[0m\u001B[0;34m\u001B[0m\u001B[0m\n\u001B[1;32m     17\u001B[0m \u001B[0;34m\u001B[0m\u001B[0m\n",
      "\u001B[0;31mTypeError\u001B[0m: unsupported operand type(s) for |: 'type' and 'NoneType'"
     ]
    }
   ],
   "source": [
    "# Import required libraries.\n",
    "import os\n",
    "from langchain_openai import OpenAI\n",
    "from crewai import Crew, Agent, Process, Task\n",
    "\n",
    "# Connect to OpenAI and initialize LLM connection.\n",
    "os.environ['OPENAI_API_KEY'] = 'INSERT-YOUR-OPENAI-API-KEY-HERE'\n",
    "llm = OpenAI(temperature=0, verbose=True)\n"
   ]
  },
  {
   "cell_type": "code",
   "execution_count": null,
   "outputs": [],
   "source": [
    "# Define the tech team CrewAI agents.\n",
    "# Product Manager Agent.\n",
    "product_manager = Agent(\n",
    "    role = 'Product Manager',\n",
    "    goal = 'Create product designs for technical features',\n",
    "    backstory = \"\"\"You are a product manager with many years of software development experience. You draw upon this experience to come up with technical product ideas and communicate these ideas in technical terms to software engineers, and in non technical to non technical team members.\"\"\",\n",
    "    verbose = True,\n",
    "    allow_delegation = False,\n",
    "    llm = llm\n",
    ")\n",
    "# Backend Software Engineer Agent.\n",
    "backend_software_engineer = Agent(\n",
    "    role = 'Backend Software Engineer',\n",
    "    goal = 'Take the Product Manager\\'s ideas and turn them into software by writing Python code.',\n",
    "    backstory = \"\"\"You are a highly skilled and experienced software engineer specializing in writing backend code in Python.\"\"\",\n",
    "    verbose = True,\n",
    "    allow_delegation = False,\n",
    "    llm = llm\n",
    ")\n",
    "# Frontend Software Engineer Agent.\n",
    "frontend_software_engineer = Agent(\n",
    "    role = 'Frontend Software Engineer',\n",
    "    goal = 'Take the Product Manager\\'s ideas and write the frontend UI code that will connect to the backend code written by the Backend Software Engineer.',\n",
    "    backstory = \"\"\"You are a highly skilled and experienced frontend software engineer specializing in writing frontend UI code in Angular.\"\"\",\n",
    "    verbose = True,\n",
    "    allow_delegation = False,\n",
    "    llm = llm\n",
    ")"
   ],
   "metadata": {
    "collapsed": false,
    "pycharm": {
     "name": "#%%\n"
    }
   }
  }
 ],
 "metadata": {
  "kernelspec": {
   "display_name": "Python 3",
   "language": "python",
   "name": "python3"
  },
  "language_info": {
   "codemirror_mode": {
    "name": "ipython",
    "version": 2
   },
   "file_extension": ".py",
   "mimetype": "text/x-python",
   "name": "python",
   "nbconvert_exporter": "python",
   "pygments_lexer": "ipython2",
   "version": "2.7.6"
  }
 },
 "nbformat": 4,
 "nbformat_minor": 0
}